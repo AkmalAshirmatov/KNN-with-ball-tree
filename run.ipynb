{
 "cells": [
  {
   "cell_type": "code",
   "execution_count": 1,
   "metadata": {
    "id": "fGgcV0OLs7jx"
   },
   "outputs": [],
   "source": [
    "import numpy as np\n",
    "from keras.datasets import mnist\n",
    "from sklearn.metrics import accuracy_score\n",
    "from sklearn.neighbors import KNeighborsClassifier\n",
    "\n",
    "from task01_ashirmatovad_tests import test_knn_model\n",
    "from task01_ashirmatovad_model import KnnBalltreeClassifier"
   ]
  },
  {
   "cell_type": "code",
   "execution_count": 11,
   "metadata": {
    "colab": {
     "base_uri": "https://localhost:8080/"
    },
    "id": "bOzi6OJy7x2o",
    "outputId": "f9743001-54e0-457f-facb-dc6aa174f386"
   },
   "outputs": [
    {
     "name": "stdout",
     "output_type": "stream",
     "text": [
      "\n",
      "\n",
      "Small test on mnist and comparing with sklearn\n",
      "\n",
      "train_x_shape (700, 784)\n",
      "test_x_shape (300, 784)\n",
      "\n",
      "Builded model: n_neighbors = 11, weights = distance, leaf_size = 100\n",
      "Fitting model\n",
      "\n",
      "Creating sklearn with same params, fitting it\n",
      "\n",
      "Just for check give for predict train_x and accuracy should be 1.0\n",
      "Accuracy = 1.0, all is ok\n",
      "\n",
      "Make predict and compare 2 arrays\n",
      "No error in predict\n",
      "\n",
      "Make predict_proba and compare 2 matrices, using np.around(..., 5)\n",
      "No error in predict_proba\n",
      "\n",
      "Make kneighbors and compare, n_neighbors = 5\n",
      "No error in kneighbors\n",
      "\n",
      "\n",
      "Test on exeptions\n",
      "\n",
      "\n",
      "Builded model: n_neighbors = 11, weights = distance, leaf_size = 100\n",
      "\n",
      "Try to give as X string for fit:\n",
      "Wrong type of X\n",
      "\n",
      "Try predict, without fitting:\n",
      "Model is not fitted yet\n",
      "\n",
      "Try predict_proba, without fitting:\n",
      "Model is not fitted yet\n",
      "\n",
      "Try kneighbors, without fitting:\n",
      "Model is not fitted yet\n",
      "\n",
      "Gen random dataset, X_small will be 2d point, with function np.random.rand. len(X_small) = n_neighbors (in builded model)\n",
      "X_small.shape (11, 2)\n",
      "Y_small.shape (11,)\n",
      "\n",
      "Try to fit with X = X_small, Y = np.random.rand(n_neighbors + 1) - len(X) != len(Y) should be:\n",
      "len(X) != len(Y), something wrong :)\n",
      "\n",
      "Fitting model with X_small, Y_small\n",
      "\n",
      "Try predict with QueryMatrix as integer:\n",
      "Wrong shapes X and QueryMatrix\n",
      "\n",
      "Try predict_proba with QueryMatrix as string:\n",
      "Wrong type of QueryMatrix\n",
      "\n",
      "Different exeptions, because integer transforms into np array, but then shapes are not equal\n",
      "\n",
      "Try predict_proba with QueryMatrix = np.random.rand(100, 3), wrong shapes:\n",
      "Wrong shapes X and QueryMatrix\n",
      "\n",
      "Try kneighbors with QueryMatrix = np.random.rand(100, 2), n_neighbors = len(X_small) + 1:\n",
      "Expected n_neighbors <= n_samples,  but n_samples = 11, n_neighbors = 12\n"
     ]
    }
   ],
   "source": [
    "MyKnn = KnnBalltreeClassifier(n_neighbors = 11, weights = 'distance', leaf_size = 100)\n",
    "test = test_knn_model(MyKnn)\n",
    "test.small_test_on_mnist_and_comparing_with_sklearn()\n",
    "test.test_for_exeptions()"
   ]
  },
  {
   "cell_type": "markdown",
   "metadata": {},
   "source": [
    " Тест, в котором нужно варировать параметры конструктора, поэтому его не вставил в класс test_knn_model"
   ]
  },
  {
   "cell_type": "code",
   "execution_count": 3,
   "metadata": {},
   "outputs": [],
   "source": [
    "def small_test():\n",
    "    print(\"Test on small input\\n\")\n",
    "    X_small = np.array([[1, 0], [0, 10], [20, 0], [100, 0]])\n",
    "    Y_small = np.array(['A', 'B', 'C', 'D'])\n",
    "    print(\"X_small\\n\", X_small)\n",
    "    print(\"Y_small\\n\", Y_small, \"\\n\")\n",
    "    print(\"Building model, n_neighbors = 1, weights = 'uniform'\")\n",
    "    MyKnn = KnnBalltreeClassifier(n_neighbors = 1, weights = 'uniform')\n",
    "    MyKnn.fit(X_small, Y_small)\n",
    "    QueryMatrix = np.array([[0, 0]])\n",
    "    print(\"MyQuery\\n\", QueryMatrix)\n",
    "    print(\"predict\")\n",
    "    print(MyKnn.predict(QueryMatrix = QueryMatrix))\n",
    "    print(\"predict_proba\")\n",
    "    print(MyKnn.predict_proba(QueryMatrix = QueryMatrix))\n",
    "    print(\"kneighbors, n_neighbors = 1\")\n",
    "    print(MyKnn.kneighbors(QueryMatrix = QueryMatrix, n_neighbors = 1))\n",
    "    print(\"kneighbors, n_neighbors = 3\")\n",
    "    print(MyKnn.kneighbors(QueryMatrix = QueryMatrix, n_neighbors = 3))\n",
    "\n",
    "    print(\"\\nNow i will iterate over n_neighbors and weights, check predict_proba, because predict and kneighbors will work the same\")\n",
    "\n",
    "    print(\"\\nBuilding model, n_neighbors = 2, weights = 'uniform'\")\n",
    "    MyKnn = KnnBalltreeClassifier(n_neighbors = 2, weights = 'uniform', leaf_size = 1)\n",
    "    MyKnn.fit(X_small, Y_small)\n",
    "    print(MyKnn.predict_proba(QueryMatrix = QueryMatrix))\n",
    "\n",
    "    print(\"\\nBuilding model, n_neighbors = 3, weights = 'uniform'\")\n",
    "    MyKnn = KnnBalltreeClassifier(n_neighbors = 3, weights = 'uniform', leaf_size = 1)\n",
    "    MyKnn.fit(X_small, Y_small)\n",
    "    print(MyKnn.predict_proba(QueryMatrix = QueryMatrix))\n",
    "\n",
    "    print(\"\\nBuilding model, n_neighbors = 4, weights = 'uniform'\")\n",
    "    MyKnn = KnnBalltreeClassifier(n_neighbors = 4, weights = 'uniform', leaf_size = 1)\n",
    "    MyKnn.fit(X_small, Y_small)\n",
    "    print(MyKnn.predict_proba(QueryMatrix = QueryMatrix))\n",
    "\n",
    "    print(\"\\nBuilding model, n_neighbors = 2, weights = 'distance'\")\n",
    "    MyKnn = KnnBalltreeClassifier(n_neighbors = 2, weights = 'distance', leaf_size = 1)\n",
    "    MyKnn.fit(X_small, Y_small)\n",
    "    print(MyKnn.predict_proba(QueryMatrix = QueryMatrix))\n",
    "    # 1 - вес 1-го соседа. 0.1 - вес 2-го соседа, общий вес 1.1\n",
    "    print(\"Should be\", 1/1.1, 0.1/1.1, 0, 0)\n",
    "\n",
    "    print(\"\\nBuilding model, n_neighbors = 3, weights = 'distance'\")\n",
    "    MyKnn = KnnBalltreeClassifier(n_neighbors = 3, weights = 'distance', leaf_size = 1)\n",
    "    MyKnn.fit(X_small, Y_small)\n",
    "    print(MyKnn.predict_proba(QueryMatrix = QueryMatrix))\n",
    "    # 1 - вес 1-го соседа. 0.1 - вес 2-го соседа, 0.05 - вес 3-го соседа, общий вес = 1.15\n",
    "    print(\"Should be\", 1/1.15, 0.1/1.15, 0.05/1.15, 0)\n",
    "\n",
    "    print(\"\\nBuilding model, n_neighbors = 4, weights = 'distance'\")\n",
    "    MyKnn = KnnBalltreeClassifier(n_neighbors = 4, weights = 'distance', leaf_size = 1)\n",
    "    MyKnn.fit(X_small, Y_small)\n",
    "    print(MyKnn.predict_proba(QueryMatrix = QueryMatrix))\n",
    "    # 1 - вес 1-го соседа. 0.1 - вес 2-го соседа, 0.05 - вес 3-го соседа, 0.01 - вес 4-го соседа, общий вес = 1.16\n",
    "    print(\"Should be\", 1/1.16, 0.1/1.16, 0.05/1.16, 0.01/1.16)\n",
    "\n",
    "    def my_own_function(dst):\n",
    "        return 1 / dst**2\n",
    "\n",
    "    print(\"\\nMy own function is f(d) = 1/d^2\")\n",
    "\n",
    "    print(\"\\nBuilding model, n_neighbors = 2, weights = my_own_function\")\n",
    "    MyKnn = KnnBalltreeClassifier(n_neighbors = 2, weights = my_own_function, leaf_size = 1)\n",
    "    MyKnn.fit(X_small, Y_small)\n",
    "    print(MyKnn.predict_proba(QueryMatrix = QueryMatrix))\n",
    "    # 1 - вес 1-го соседа. 0.01 - вес 2-го соседа, общий вес 1.01\n",
    "    print(\"Should be\", 1/1.01, 0.01/1.01, 0, 0)\n",
    "\n",
    "    print(\"\\nBuilding model, n_neighbors = 3, weights = my_own_function\")\n",
    "    MyKnn = KnnBalltreeClassifier(n_neighbors = 3, weights = my_own_function, leaf_size = 1)\n",
    "    MyKnn.fit(X_small, Y_small)\n",
    "    print(MyKnn.predict_proba(QueryMatrix = QueryMatrix))\n",
    "    # 1 - вес 1-го соседа. 0.01 - вес 2-го соседа, 0.0025 - вес 3-го соседа, общий вес 1.0125\n",
    "    print(\"Should be\", 1/1.0125, 0.01/1.0125, 0.0025/1.0125, 0)\n",
    "\n",
    "    print(\"\\nBuilding model, n_neighbors = 4, weights = my_own_function\")\n",
    "    MyKnn = KnnBalltreeClassifier(n_neighbors = 4, weights = my_own_function, leaf_size = 1)\n",
    "    MyKnn.fit(X_small, Y_small)\n",
    "    print(MyKnn.predict_proba(QueryMatrix = QueryMatrix))\n",
    "    # 1 - вес 1-го соседа. 0.01 - вес 2-го соседа, 0.0025 - вес 3-го соседа, 0.0001 - вес 4-го соседа, общий вес 1.0126\n",
    "    print(\"Should be\", 1/1.0126, 0.01/1.0126, 0.0025/1.0126, 0.0001/1.0126)"
   ]
  },
  {
   "cell_type": "code",
   "execution_count": 4,
   "metadata": {},
   "outputs": [
    {
     "name": "stdout",
     "output_type": "stream",
     "text": [
      "Test on small input\n",
      "\n",
      "X_small\n",
      " [[  1   0]\n",
      " [  0  10]\n",
      " [ 20   0]\n",
      " [100   0]]\n",
      "Y_small\n",
      " ['A' 'B' 'C' 'D'] \n",
      "\n",
      "Building model, n_neighbors = 1, weights = 'uniform'\n",
      "MyQuery\n",
      " [[0 0]]\n",
      "predict\n",
      "['A']\n",
      "predict_proba\n",
      "[[1. 0. 0. 0.]]\n",
      "kneighbors, n_neighbors = 1\n",
      "(array([[1.]]), array([[0]]))\n",
      "kneighbors, n_neighbors = 3\n",
      "(array([[ 1., 10., 20.]]), array([[0, 1, 2]]))\n",
      "\n",
      "Now i will iterate over n_neighbors and weights, check predict_proba, because predict and kneighbors will work the same\n",
      "\n",
      "Building model, n_neighbors = 2, weights = 'uniform'\n",
      "[[0.5 0.5 0.  0. ]]\n",
      "\n",
      "Building model, n_neighbors = 3, weights = 'uniform'\n",
      "[[0.33333333 0.33333333 0.33333333 0.        ]]\n",
      "\n",
      "Building model, n_neighbors = 4, weights = 'uniform'\n",
      "[[0.25 0.25 0.25 0.25]]\n",
      "\n",
      "Building model, n_neighbors = 2, weights = 'distance'\n",
      "[[0.90909091 0.09090909 0.         0.        ]]\n",
      "Should be 0.9090909090909091 0.09090909090909091 0 0\n",
      "\n",
      "Building model, n_neighbors = 3, weights = 'distance'\n",
      "[[0.86956522 0.08695652 0.04347826 0.        ]]\n",
      "Should be 0.8695652173913044 0.08695652173913045 0.04347826086956522 0\n",
      "\n",
      "Building model, n_neighbors = 4, weights = 'distance'\n",
      "[[0.86206897 0.0862069  0.04310345 0.00862069]]\n",
      "Should be 0.8620689655172414 0.08620689655172414 0.04310344827586207 0.008620689655172415\n",
      "\n",
      "My own function is f(d) = 1/d^2\n",
      "\n",
      "Building model, n_neighbors = 2, weights = my_own_function\n",
      "[[0.99009901 0.00990099 0.         0.        ]]\n",
      "Should be 0.9900990099009901 0.009900990099009901 0 0\n",
      "\n",
      "Building model, n_neighbors = 3, weights = my_own_function\n",
      "[[0.98765432 0.00987654 0.00246914 0.        ]]\n",
      "Should be 0.9876543209876544 0.009876543209876543 0.0024691358024691358 0\n",
      "\n",
      "Building model, n_neighbors = 4, weights = my_own_function\n",
      "[[9.87556785e-01 9.87556785e-03 2.46889196e-03 9.87556785e-05]]\n",
      "Should be 0.9875567845151096 0.009875567845151097 0.002468891961287774 9.875567845151097e-05\n"
     ]
    }
   ],
   "source": [
    "small_test()"
   ]
  },
  {
   "cell_type": "markdown",
   "metadata": {},
   "source": [
    "Применяю к прикладной задаче машинного обучения - к датасету mnist. Сначала, взяв не всю базу, я посмотрю, при каких гиперпараметрах работает лучше"
   ]
  },
  {
   "cell_type": "code",
   "execution_count": 10,
   "metadata": {
    "colab": {
     "base_uri": "https://localhost:8080/"
    },
    "id": "Yui4rtu8Fvxy",
    "outputId": "17bacade-dce5-4392-b035-fa1df300cde8"
   },
   "outputs": [
    {
     "name": "stdout",
     "output_type": "stream",
     "text": [
      "(60000, 784) (10000, 784)\n",
      "uniform 1 0.85\n",
      "uniform 3 0.845\n",
      "uniform 5 0.875\n",
      "uniform 7 0.855\n",
      "uniform 9 0.845\n",
      "uniform 11 0.825\n",
      "distance 1 0.85\n",
      "distance 3 0.855\n",
      "distance 5 0.875\n",
      "distance 7 0.86\n",
      "distance 9 0.865\n",
      "distance 11 0.84\n",
      "<function my_own_function at 0x7f8919bc33a0> 1 0.85\n",
      "<function my_own_function at 0x7f8919bc33a0> 3 0.855\n",
      "<function my_own_function at 0x7f8919bc33a0> 5 0.875\n",
      "<function my_own_function at 0x7f8919bc33a0> 7 0.86\n",
      "<function my_own_function at 0x7f8919bc33a0> 9 0.865\n",
      "<function my_own_function at 0x7f8919bc33a0> 11 0.85\n"
     ]
    }
   ],
   "source": [
    "from keras.datasets import mnist\n",
    "from sklearn.metrics import accuracy_score\n",
    "from sklearn.neighbors import KNeighborsClassifier\n",
    "\n",
    "(train_x, train_y), (test_x, test_y) = mnist.load_data()\n",
    "train_x = train_x.reshape(len(train_x), 784)\n",
    "test_x = test_x.reshape(len(test_x), 784)\n",
    "print(train_x.shape, test_x.shape)\n",
    "train_x = np.float32(train_x)\n",
    "test_x = np.float32(test_x)\n",
    "\n",
    "def my_own_function(dst):\n",
    "    return 1 / dst**2\n",
    "    \n",
    "for weights in ['uniform', 'distance', my_own_function]:\n",
    "    for k in range(1, 12, 2):\n",
    "        MyKnn = KnnBalltreeClassifier(n_neighbors = k, weights = weights, leaf_size = 100)\n",
    "        MyKnn.fit(train_x[:1000], train_y[:1000])\n",
    "        acc = MyKnn.predict(test_x[:200])\n",
    "        print(weights, k, accuracy_score(acc, test_y[:200]))"
   ]
  },
  {
   "cell_type": "markdown",
   "metadata": {},
   "source": [
    "На n_neighbors = 5, weights = 'distance' работает хорошо, буду использовать его. Проверю"
   ]
  },
  {
   "cell_type": "code",
   "execution_count": 14,
   "metadata": {},
   "outputs": [
    {
     "name": "stdout",
     "output_type": "stream",
     "text": [
      "0.914\n"
     ]
    }
   ],
   "source": [
    "MyKnn = KnnBalltreeClassifier(n_neighbors = 5, weights = 'distance', leaf_size = 100)\n",
    "MyKnn.fit(train_x[:5000], train_y[:5000])\n",
    "acc = MyKnn.predict(test_x[:1000])\n",
    "print(accuracy_score(acc, test_y[:1000]))"
   ]
  },
  {
   "cell_type": "markdown",
   "metadata": {},
   "source": [
    "Работает хорошо. Теперь возьму в качестве train_x[:10000], и сделаю predict всего test"
   ]
  },
  {
   "cell_type": "code",
   "execution_count": 15,
   "metadata": {},
   "outputs": [
    {
     "name": "stdout",
     "output_type": "stream",
     "text": [
      "0.9476\n"
     ]
    }
   ],
   "source": [
    "MyKnn = KnnBalltreeClassifier(n_neighbors = 5, weights = 'distance', leaf_size = 500)\n",
    "MyKnn.fit(train_x[:10000], train_y[:10000])\n",
    "acc = MyKnn.predict(test_x)\n",
    "print(accuracy_score(acc, test_y))"
   ]
  },
  {
   "cell_type": "markdown",
   "metadata": {},
   "source": [
    "Йеху!"
   ]
  }
 ],
 "metadata": {
  "colab": {
   "collapsed_sections": [],
   "name": "Untitled5.ipynb",
   "provenance": []
  },
  "kernelspec": {
   "display_name": "Python 3",
   "language": "python",
   "name": "python3"
  },
  "language_info": {
   "codemirror_mode": {
    "name": "ipython",
    "version": 3
   },
   "file_extension": ".py",
   "mimetype": "text/x-python",
   "name": "python",
   "nbconvert_exporter": "python",
   "pygments_lexer": "ipython3",
   "version": "3.8.5"
  }
 },
 "nbformat": 4,
 "nbformat_minor": 1
}
